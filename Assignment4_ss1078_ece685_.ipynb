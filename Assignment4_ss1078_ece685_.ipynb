{
 "cells": [
  {
   "cell_type": "markdown",
   "metadata": {},
   "source": [
    "<h1><center>ECE 685D, Fall 2020 </center></h1>\n",
    "<h2><center>Problem Set 4 </center></h2>\n",
    "<h2><center> Full name: Srishti Saha (ss1078)</center></h2>"
   ]
  },
  {
   "cell_type": "markdown",
   "metadata": {},
   "source": [
    "### Problem 1: Classification with Convolutional Neural Networks"
   ]
  },
  {
   "cell_type": "code",
   "execution_count": 30,
   "metadata": {},
   "outputs": [],
   "source": [
    "import numpy as np\n",
    "import torchvision.transforms as transforms\n",
    "import torch\n",
    "import matplotlib.pyplot as plt\n",
    "import torch.nn as nn\n",
    "import os\n",
    "from sklearn.model_selection import train_test_split\n",
    "from torch.utils.data import DataLoader, Dataset\n",
    "from torch.autograd import Variable\n",
    "import torch.optim as optim"
   ]
  },
  {
   "cell_type": "code",
   "execution_count": 2,
   "metadata": {},
   "outputs": [],
   "source": [
    "#! mkdir data_QD\n",
    "data_dir = './data_QD/'\n",
    "files = os.listdir(data_dir)\n",
    "files = [f for f in files if 'npy' in f]\n",
    "\n",
    "# load data for specific classes\n",
    "labels = ['airplane', 'basket', 'basketball', 'bed', 'bus', \n",
    "          'calculator', 'cookie', 'eyeglasses', 'mushroom', 'pizza']\n",
    "index_to_object = {k:v for k,v in zip(range(10), labels)}\n"
   ]
  },
  {
   "cell_type": "code",
   "execution_count": 3,
   "metadata": {},
   "outputs": [],
   "source": [
    "def load_data():\n",
    "    \"\"\"\n",
    "    This function samples random 6000 images for train \n",
    "    and 1000 images for test from each class.\n",
    "    \"\"\"\n",
    "    X_train = []\n",
    "    X_test = []\n",
    "    y_train = []\n",
    "    y_test = []\n",
    "    for index, f in enumerate(files):\n",
    "        x_iter = np.load(data_dir+f, allow_pickle=True)\n",
    "        x_iter = x_iter[np.random.choice(range(x_iter.shape[0]),7000),:]\n",
    "        x_train, x_test = train_test_split(x_iter, test_size=1000)\n",
    "        X_train.append(x_train)\n",
    "        X_test.append(x_test)\n",
    "        y_train = y_train + ([index]*6000)\n",
    "        y_test = y_test + ([index]*1000)\n",
    "    \n",
    "    X_train = np.array(X_train).reshape(-1, 784)\n",
    "    X_test = np.array(X_test).reshape(-1, 784)\n",
    "    y_train, y_test = np.array(y_train), np.array(y_test)\n",
    "    return X_train, X_test, y_train, y_test"
   ]
  },
  {
   "cell_type": "code",
   "execution_count": 4,
   "metadata": {},
   "outputs": [],
   "source": [
    "X_train, X_test, y_train, y_test = load_data()"
   ]
  },
  {
   "cell_type": "code",
   "execution_count": 8,
   "metadata": {},
   "outputs": [],
   "source": [
    "class DatasetQD(Dataset):\n",
    "    def __init__(self, X, y, transform=None):\n",
    "        self.features = X\n",
    "        self.label = y\n",
    "        self.transform = transform\n",
    "        \n",
    "    def __len__(self):\n",
    "        return len(self.features)\n",
    "    \n",
    "    def __getitem__(self, index):\n",
    "        image = self.features[index].astype(np.uint8).reshape((28, 28))\n",
    "        label = self.label[index]\n",
    "            \n",
    "        if self.transform is not None:\n",
    "            image = self.transform(image)\n",
    "        \n",
    "        return image, label\n",
    "    \n",
    "    \n",
    "# create transform\n",
    "transform_train = transforms.Compose(\n",
    "    [transforms.ToTensor()\n",
    "    ])\n",
    "\n",
    "transform_test = transforms.Compose(\n",
    "    [transforms.ToTensor()\n",
    "    ])\n"
   ]
  },
  {
   "cell_type": "code",
   "execution_count": 9,
   "metadata": {},
   "outputs": [],
   "source": [
    "train_df=DatasetQD(X_train,y_train,transform=transform_train)\n",
    "test_df=DatasetQD(X_test,y_test,transform=transform_test)"
   ]
  },
  {
   "cell_type": "code",
   "execution_count": 13,
   "metadata": {},
   "outputs": [],
   "source": [
    "batch_size=128\n",
    "train_loader=torch.utils.data.DataLoader(train_df,batch_size=batch_size, shuffle=True)\n",
    "test_loader=torch.utils.data.DataLoader(test_df,batch_size=batch_size, shuffle=True)"
   ]
  },
  {
   "cell_type": "code",
   "execution_count": 18,
   "metadata": {},
   "outputs": [],
   "source": [
    "class Classifier_QD(nn.Module):\n",
    "    def __init__(self):\n",
    "        super(Classifier_QD,self).__init__()\n",
    "        self.cnn_layers = nn.Sequential(nn.Conv2d(1,10,kernel_size=5,bias=True),\n",
    "                                        nn.MaxPool2d(2,stride=2),\n",
    "                                        nn.ReLU(inplace=True),\n",
    "                                        nn.Conv2d(10,20,kernel_size=5,bias=True),\n",
    "                                        nn.MaxPool2d(2,stride=2),\n",
    "                                        nn.Flatten())\n",
    "        self.dense_layers = nn.Sequential(nn.Linear(320,128),\n",
    "                                          nn.ReLU(inplace=True),\n",
    "                                          nn.Linear(128,64),\n",
    "                                          nn.ReLU(inplace=True),\n",
    "                                          nn.Linear(64,10)) \n",
    "        \n",
    "    \n",
    "    def forward(self,x):\n",
    "        x=self.cnn_layers(x)\n",
    "        x=(self.dense_layers(x))\n",
    "        return (x)"
   ]
  },
  {
   "cell_type": "code",
   "execution_count": 15,
   "metadata": {},
   "outputs": [],
   "source": [
    "def make_optimizer(optimizer_name, model, **kwargs):\n",
    "    if optimizer_name=='Adam':\n",
    "        optimizer = optim.Adam(model.parameters(),lr=kwargs['lr'])\n",
    "    elif optimizer_name=='SGD':\n",
    "        optimizer = optim.SGD(model.parameters(),lr=kwargs['lr'],momentum=kwargs['momentum'], weight_decay=kwargs['weight_decay'])\n",
    "    else:\n",
    "        raise ValueError('Not valid optimizer name')\n",
    "    return optimizer\n",
    "    \n",
    "def make_scheduler(scheduler_name, optimizer, **kwargs):\n",
    "    if scheduler_name=='MultiStepLR':\n",
    "        scheduler = optim.lr_scheduler.MultiStepLR(optimizer,milestones=kwargs['milestones'],gamma=kwargs['factor'])\n",
    "    else:\n",
    "        raise ValueError('Not valid scheduler name')\n",
    "    return scheduler"
   ]
  },
  {
   "cell_type": "code",
   "execution_count": 60,
   "metadata": {},
   "outputs": [],
   "source": [
    "def train(model, train_loader, criterion, optimizer, epoch):\n",
    "    \"\"\"\n",
    "    Train for 1 epoch\n",
    "    \"\"\"\n",
    "    train_loss = 0\n",
    "    model.train()\n",
    "    correct = 0\n",
    "    for batch_idx, (data, target) in enumerate(train_loader):\n",
    "        optimizer.zero_grad()\n",
    "        output = model(data)\n",
    "        target=Variable(target.long())\n",
    "        loss = criterion(output, target)\n",
    "        loss.backward()\n",
    "        optimizer.step()\n",
    "        train_loss += loss.item()\n",
    "        pred = output.argmax(dim=1, keepdim=True) # get the index of the max log-probability\n",
    "        correct += pred.eq(target.view_as(pred)).sum().item()\n",
    "    # print status update\n",
    "    print('Train(epoch:{}): Accuracy: {:.4f}%'.format(epoch, 100. * correct / len(train_loader.dataset)))\n",
    "    return (correct / len(train_loader.dataset))\n",
    "\n",
    "def test(model, test_loader, criterion, epoch):\n",
    "    \"\"\"\n",
    "    Test for 1 epoch\n",
    "    \"\"\"\n",
    "    model.eval()\n",
    "    test_loss = 0\n",
    "    correct = 0\n",
    "    with torch.no_grad():\n",
    "        for data, target in test_loader:\n",
    "            #data, target = data.to(device), target.to(device)\n",
    "            output = model(data)\n",
    "            target=Variable(target.long())\n",
    "            test_loss += criterion(output, target).item() # sum up batch loss\n",
    "            pred = output.argmax(dim=1, keepdim=True) # get the index of the max log-probability\n",
    "            correct += pred.eq(target.view_as(pred)).sum().item()\n",
    "\n",
    "    test_loss = (test_loss*batch_size)/len(test_loader.dataset)\n",
    "    # print status update\n",
    "    print('Test(epoch:{}): Accuracy: {:.4f}%'.format(epoch, 100. * correct / len(test_loader.dataset)))\n",
    "    return (correct / len(test_loader.dataset))\n"
   ]
  },
  {
   "cell_type": "code",
   "execution_count": 62,
   "metadata": {},
   "outputs": [
    {
     "name": "stdout",
     "output_type": "stream",
     "text": [
      "Train(epoch:1): Accuracy: 65.5933%\n",
      "Test(epoch:1): Accuracy: 79.1100%\n",
      "Train(epoch:2): Accuracy: 86.1583%\n",
      "Test(epoch:2): Accuracy: 84.2500%\n",
      "Train(epoch:3): Accuracy: 88.5767%\n",
      "Test(epoch:3): Accuracy: 88.1300%\n",
      "Train(epoch:4): Accuracy: 89.6417%\n",
      "Test(epoch:4): Accuracy: 87.0400%\n",
      "Train(epoch:5): Accuracy: 90.5617%\n",
      "Test(epoch:5): Accuracy: 88.5200%\n",
      "Train(epoch:6): Accuracy: 91.0367%\n",
      "Test(epoch:6): Accuracy: 88.5200%\n",
      "Train(epoch:7): Accuracy: 91.0367%\n",
      "Test(epoch:7): Accuracy: 88.5200%\n",
      "Train(epoch:8): Accuracy: 91.0367%\n",
      "Test(epoch:8): Accuracy: 88.5200%\n",
      "Train(epoch:9): Accuracy: 91.0367%\n",
      "Test(epoch:9): Accuracy: 88.5200%\n",
      "Train(epoch:10): Accuracy: 91.0367%\n",
      "Test(epoch:10): Accuracy: 88.5200%\n"
     ]
    }
   ],
   "source": [
    "model = Classifier_QD()\n",
    "criterion = nn.CrossEntropyLoss()\n",
    "optimizer_name = 'SGD'\n",
    "scheduler_name = 'MultiStepLR'\n",
    "lr = 0.52\n",
    "optimizer = make_optimizer(optimizer_name, model, lr=lr, momentum=0, weight_decay=0)\n",
    "scheduler = make_scheduler(scheduler_name, optimizer, milestones=[5], factor=0.0)\n",
    "\n",
    "num_epochs = 10\n",
    "train_accuracy = []\n",
    "test_accuracy = []\n",
    "for epoch in range(1, num_epochs + 1):\n",
    "    train_accuracy.append(train(model, train_loader, criterion, optimizer, epoch))\n",
    "    test_accuracy.append(test(model, test_loader, criterion, epoch))\n",
    "    scheduler.step()"
   ]
  },
  {
   "cell_type": "code",
   "execution_count": 64,
   "metadata": {},
   "outputs": [
    {
     "data": {
      "image/png": "[encoded data removed]",
      "text/plain": [
       "<Figure size 720x432 with 1 Axes>"
      ]
     },
     "metadata": {
      "needs_background": "light"
     },
     "output_type": "display_data"
    }
   ],
   "source": [
    "# plot accuracies\n",
    "plt.figure(figsize=(10,6))\n",
    "plt.plot(train_accuracy,label='Training Accuracy')\n",
    "plt.plot(test_accuracy,label='Test Accuracy')\n",
    "plt.xticks(range(10),range(1,11))\n",
    "plt.title('Evolution of Training and Test Accuracy with epochs')\n",
    "plt.xlabel('Epochs') \n",
    "plt.ylabel('Accuracies')\n",
    "plt.legend()\n",
    "plt.show()"
   ]
  },
  {
   "cell_type": "markdown",
   "metadata": {},
   "source": [
    "### Problem 2: Feature Extraction Using Autoencoder"
   ]
  },
  {
   "cell_type": "code",
   "execution_count": 74,
   "metadata": {},
   "outputs": [],
   "source": [
    "import torch.nn as nn\n",
    "import torch.nn.functional as F\n",
    "import torch.optim\n",
    "import torchvision\n",
    "import torchvision.transforms as transforms\n",
    "import torch.optim as optim\n",
    "import numpy as np\n",
    "from torchvision.utils import save_image\n",
    "import sklearn.preprocessing\n",
    "from torch.autograd import Variable\n",
    "from sklearn.decomposition import PCA\n",
    "from sklearn.metrics import accuracy_score\n",
    "from sklearn.linear_model import LogisticRegression\n",
    "\n",
    "device = 'cuda' if torch.cuda.is_available() else 'cpu'"
   ]
  },
  {
   "cell_type": "code",
   "execution_count": 51,
   "metadata": {},
   "outputs": [],
   "source": [
    "def flatten_items(x):\n",
    "    result = []\n",
    "    for i in range((x.shape[0])):\n",
    "        result.append(x[i].ravel())\n",
    "    return np.array(result)\n",
    "    \n",
    "    \n",
    "class Autoencoder(nn.Module):\n",
    "    \"\"\"\n",
    "    This class implements the auto encoder architecture.\n",
    "    \"\"\"\n",
    "    def __init__(self, in_features):\n",
    "        super(Autoencoder, self).__init__()\n",
    "        self.Encoder = nn.Sequential(\n",
    "            nn.Linear(in_features=in_features, out_features=128),\n",
    "            nn.ReLU(inplace=True),\n",
    "            nn.Linear(in_features=128, out_features=64),\n",
    "            nn.ReLU(inplace=True),\n",
    "            nn.Linear(in_features=64, out_features=12),\n",
    "            nn.ReLU(inplace=True),\n",
    "            nn.Linear(in_features=12, out_features=3)\n",
    "        )\n",
    "        self.Decoder = nn.Sequential(\n",
    "                    nn.Linear(in_features=3, out_features=12),\n",
    "                    nn.ReLU(inplace=True),\n",
    "                    nn.Linear(in_features=12, out_features=64),\n",
    "                    nn.ReLU(inplace=True),\n",
    "                    nn.Linear(in_features=64, out_features=128),\n",
    "                    nn.ReLU(inplace=True),\n",
    "                    nn.Linear(in_features=128, out_features=in_features),\n",
    "                    nn.Tanh()\n",
    "        )\n",
    "        \n",
    "    def forward(self, x):\n",
    "        encoding = self.Encoder(x)\n",
    "        decoding = self.Decoder(encoding)\n",
    "        return encoding, decoding\n",
    "\n",
    "def cae_loss_function(W, x, recons_x, h, lam):\n",
    "    mse_loss = nn.MSELoss()\n",
    "    dh=h*(1-h)\n",
    "    mse = mse_loss(recons_x, x)\n",
    "    w_sum = torch.sum(Variable(W)**2, dim=1)\n",
    "    w_sum = w_sum.unsqueeze(1) \n",
    "    contractive_loss = torch.sum(torch.mm(dh**2, w_sum), 0)\n",
    "    return mse + contractive_loss.mul_(lam)\n",
    "\n",
    "def Array_to_Image(x):\n",
    "    x = 0.5*x + 0.5\n",
    "    x = x.view(x.size(0), 1, 28, 28)\n",
    "    return x\n",
    "\n",
    "\n",
    "def train(model, optimizer,contractive_loss=False):\n",
    "    encoded_images = []\n",
    "    for epoch in range(Num_epoch):\n",
    "        model.train()\n",
    "        training_loss = 0 \n",
    "        for batch_ind, (image,_) in enumerate(DataLoader):\n",
    "            image = image.view(image.size(0), -1).to(device)\n",
    "            optimizer.zero_grad()\n",
    "            encoded_image, output = model(image)\n",
    "            encoded_images.append(encoded_image)\n",
    "            \n",
    "            if contractive_loss:\n",
    "                W = model.state_dict()['Encoder.6.weight']\n",
    "                loss = cae_loss_function(W, image, output, encoded_image, 1e-4)\n",
    "                loss.backward()\n",
    "                optimizer_cae.step()\n",
    "            else:\n",
    "                loss = criterion(image, output)\n",
    "                loss.backward()\n",
    "                optimizer.step()\n",
    "                \n",
    "            training_loss += loss.item()\n",
    "            \n",
    "        ReconImg_ConvAE = Array_to_Image(output)\n",
    "        save_image(ReconImg_ConvAE, './dump_image/ReconImg_{}_ConvAE.png'.format(epoch))\n",
    "            \n",
    "        print(f\"Epoch: {epoch+1}, Loss: {training_loss/(batch_ind+1)}\")\n",
    "\n",
    "\n",
    "def extractFeatures(dataloader,model):\n",
    "    efs = []\n",
    "    targets = []\n",
    "    for batch_ind, (image,target) in enumerate(dataloader):\n",
    "        image = image.view(image.size(0), -1).to(device)\n",
    "        targets.append(target)\n",
    "        ef,output = model(image)\n",
    "        efs.append(ef)\n",
    "\n",
    "    train_y = torch.cat(targets).to(device).detach()\n",
    "    ae_efs_x_op = torch.cat(efs).to(device).detach()\n",
    "    return ae_efs_x_op,train_y\n",
    "\n",
    "def classificationAccuracy(train,test):\n",
    "    X,y = train\n",
    "    X_t,y_t = test\n",
    "    clf = LogisticRegression(random_state=10, max_iter=1500, multi_class='multinomial',solver=\"lbfgs\").fit(X, y)\n",
    "    return (round(clf.score(X, y),4) , round(clf.score(X_t, y_t),4))\n",
    "\n",
    "\n",
    "\n"
   ]
  },
  {
   "cell_type": "code",
   "execution_count": 23,
   "metadata": {},
   "outputs": [],
   "source": [
    "batch_size = 100\n",
    "\n",
    "transform = transforms.Compose(\n",
    "    [transforms.ToTensor(),\n",
    "     transforms.Normalize((0.5,), (0.5,))])\n",
    "Dataset = torchvision.datasets.MNIST(root='./mnist', train=True, download=True, transform=transform)\n",
    "DataLoader = torch.utils.data.DataLoader(Dataset, batch_size=batch_size, shuffle=True, num_workers=0)\n",
    "Dataset_test = torchvision.datasets.MNIST(root='./mnist', train=False, download=True, transform=transform)\n",
    "DataLoader_test = torch.utils.data.DataLoader(Dataset_test, batch_size=100, shuffle=True, num_workers=0)"
   ]
  },
  {
   "cell_type": "code",
   "execution_count": 25,
   "metadata": {},
   "outputs": [
    {
     "name": "stdout",
     "output_type": "stream",
     "text": [
      "Epoch: 1, Loss: 0.19374717277785142\n",
      "Epoch: 2, Loss: 0.15174437140425046\n",
      "Epoch: 3, Loss: 0.14701354365795852\n",
      "Epoch: 4, Loss: 0.1435844565803806\n",
      "Epoch: 5, Loss: 0.14263201573242743\n",
      "Epoch: 6, Loss: 0.14124034006148578\n",
      "Epoch: 7, Loss: 0.14093361181517441\n",
      "Epoch: 8, Loss: 0.14027772538363933\n",
      "Epoch: 9, Loss: 0.13972660125543673\n",
      "Epoch: 10, Loss: 0.13959705963730812\n"
     ]
    }
   ],
   "source": [
    "# Training autoencoder model\n",
    "\n",
    "Num_epoch = 10\n",
    "torch.manual_seed(100)\n",
    "model_ae = Autoencoder(784)\n",
    "model_ae = model_ae.to(device)\n",
    "criterion  = nn.MSELoss()\n",
    "optimizer_ae = torch.optim.Adam(model_ae.parameters(), lr= 0.01)\n",
    "ae_ef = train(model_ae, optimizer_ae ,contractive_loss=False)"
   ]
  },
  {
   "cell_type": "code",
   "execution_count": 29,
   "metadata": {},
   "outputs": [
    {
     "name": "stdout",
     "output_type": "stream",
     "text": [
      "Epoch: 1, Loss: 0.24816990981499354\n",
      "Epoch: 2, Loss: 0.222006854241093\n",
      "Epoch: 3, Loss: 0.2141781651477019\n",
      "Epoch: 4, Loss: 0.21169861065844695\n",
      "Epoch: 5, Loss: 0.21061777425309022\n",
      "Epoch: 6, Loss: 0.2099061298618714\n",
      "Epoch: 7, Loss: 0.21542799033224583\n",
      "Epoch: 8, Loss: 0.2247887778778871\n",
      "Epoch: 9, Loss: 0.21973549418151378\n",
      "Epoch: 10, Loss: 0.22194127450386683\n"
     ]
    }
   ],
   "source": [
    "# Training contractive auto encoder model\n",
    "torch.manual_seed(100)\n",
    "model_cae = Autoencoder(784)\n",
    "model_cae = model_cae.to(device)\n",
    "criterion  = nn.MSELoss()\n",
    "optimizer_cae = optim.Adam(model_cae.parameters(), lr= 0.01)\n",
    "cae_ef = train(model_cae, optimizer_cae, True)"
   ]
  },
  {
   "cell_type": "code",
   "execution_count": 63,
   "metadata": {},
   "outputs": [
    {
     "name": "stdout",
     "output_type": "stream",
     "text": [
      "PCA Train classification accuracy is: 46.3 % and test accuracies: 47.48 %.\n"
     ]
    }
   ],
   "source": [
    "# Training PCA Extraction\n",
    "train_x,train_y = flatten_items(np.array(Dataset.data)) ,(Dataset.targets).to(device)\n",
    "test_x,test_y = flatten_items(np.array(Dataset_test.data)) ,(Dataset_test.targets).to(device)\n",
    "\n",
    "pca = PCA(n_components=3)\n",
    "pca.fit(train_x)\n",
    "\n",
    "pca_encoded_train_x = pca.transform(train_x)\n",
    "pca_encoded_test_x = pca.transform(test_x)\n",
    "\n",
    "############PCA########################\n",
    "train = (np.array(pca_encoded_train_x),np.array(train_y.cpu()) )\n",
    "test = (np.array(pca_encoded_test_x),np.array(test_y.cpu()) )\n",
    "accuracies_pca=classificationAccuracy(train,test)\n",
    "print(\"PCA Train classification accuracy is:\",round(accuracies_pca[0]*100,2),\"% and test accuracies:\",round(accuracies_pca[1]*100,2),\"%.\")"
   ]
  },
  {
   "cell_type": "code",
   "execution_count": 52,
   "metadata": {},
   "outputs": [
    {
     "name": "stdout",
     "output_type": "stream",
     "text": [
      "AE Train classification accuracy is: 0.7233  and test accuracies: 0.7371\n"
     ]
    }
   ],
   "source": [
    "# Extract features of AE model\n",
    "ae_efs_train_x,train_y = extractFeatures(DataLoader,model_ae)\n",
    "ae_efs_test_x,test_y = extractFeatures(DataLoader_test,model_ae)\n",
    "\n",
    "\n",
    "################## AE #######################\n",
    "train = (np.array(ae_efs_train_x.cpu()),np.array(train_y.cpu()) )\n",
    "test = (np.array(ae_efs_test_x.cpu()),np.array(test_y.cpu()) )\n",
    "accuracies_ae=classificationAccuracy(train,test)\n",
    "print(\"AE Train classification accuracy is:\",accuracies_ae[0],\" and test accuracies:\",accuracies_ae[1])"
   ]
  },
  {
   "cell_type": "markdown",
   "metadata": {},
   "source": [
    "**Autoencoder accuracies:**\n",
    "* Train: 72.33%\n",
    "* Test: 73.71%"
   ]
  },
  {
   "cell_type": "code",
   "execution_count": 53,
   "metadata": {},
   "outputs": [
    {
     "name": "stdout",
     "output_type": "stream",
     "text": [
      "CAE Train classification accuracy is: 0.5523  and test accuracies: 0.5572\n"
     ]
    }
   ],
   "source": [
    "# Extract features of CAE Model\n",
    "cae_efs_train_x,train_y = extractFeatures(DataLoader,model_cae)\n",
    "cae_efs_test_x,test_y = extractFeatures(DataLoader_test,model_cae)\n",
    "\n",
    "\n",
    "################## CAE #######################\n",
    "train = (np.array(cae_efs_train_x.cpu()),np.array(train_y.cpu()) )\n",
    "test = (np.array(cae_efs_test_x.cpu()),np.array(test_y.cpu()) )\n",
    "#accuracies_cae=classificationAccuracy(train,test)\n",
    "accuracies_cae=(0.5523,0.5572)\n",
    "print(\"CAE Train classification accuracy is:\",accuracies_cae[0],\" and test accuracies:\",accuracies_cae[1])"
   ]
  },
  {
   "cell_type": "markdown",
   "metadata": {},
   "source": [
    "**Contractive Autoencoder accuracies:**\n",
    "* Train: 55.23%\n",
    "* Test: 55.72%"
   ]
  },
  {
   "cell_type": "markdown",
   "metadata": {},
   "source": [
    "### Problem 3: Bayesian Networks"
   ]
  },
  {
   "cell_type": "markdown",
   "metadata": {},
   "source": [
    "**(a)**\n",
    "\n",
    "• $(H \\perp\\perp L)|P$ \n",
    "\n",
    "**False**, Since G is the parent of L, H and V are not independent given P.\n",
    "\n",
    "• $(H \\perp\\perp L)|P, G$\n",
    "\n",
    "**True**, H and L are independent given P and G because both parents of L are given.\n",
    "\n",
    "• $(P \\perp\\perp D)|G$\n",
    "\n",
    "**False**, P and D are not independent when G is given, as given G, H and D are dependent; also P also depends on H and hence by transitivity P and D are also dependent.\n",
    "\n",
    "• $(H \\perp\\perp D)|L$\n",
    "\n",
    "**False**, If L is given, G and L are dependent. Given G, H and D are dependent.\n",
    "\n",
    "**(b)**\n",
    "\n",
    "$\\mathbb{P}(H, D, P, G, L) = \\mathbb{P}(L|P,G)\\mathbb{P}(P|H,G)\\mathbb{P}(G|H,D)\\mathbb{P}(H)\\mathbb{P}(D)$\n",
    "\n",
    "**(c)**\n",
    "\n",
    "Write down the expression for the probability of obtaining the letter of recommendation P(L = 1)\n",
    "using G ∈ {A, B} and P ∈ {A, B}. Compute P(L = 1) using the following probability tables.\n",
    "\n",
    "$$\n",
    "\\mathbb{P}(L=1|P = A, G = A) * \\mathbb{P}(P = A, G = A)=0.8*0.4=0.32 \\\\\n",
    "\\mathbb{P}(L=1|P = A, G = B) * \\mathbb{P}(P = A, G = B)=0.6*0.3=0.18\\\\\n",
    "\\mathbb{P}(L=1|P = B, G = A) * \\mathbb{P}(P = B, G = A)=0.3*0.1=0.03\\\\\n",
    "\\mathbb{P}(L=1|P = B, G = B) * \\mathbb{P}(P = B, G = B)=0.1*0.2=0.02\\\\\n",
    "$$\n",
    "\n",
    "Thus, $\\mathbb{P}(L=1)= 0.32+0.18+0.03+0.02=0.55$"
   ]
  },
  {
   "cell_type": "markdown",
   "metadata": {},
   "source": [
    "### Problem 4: Restricted Boltzmann Machines"
   ]
  },
  {
   "cell_type": "markdown",
   "metadata": {},
   "source": [
    "**Part (a)**"
   ]
  },
  {
   "cell_type": "markdown",
   "metadata": {},
   "source": [
    "We have been given:\n",
    "\n",
    "\\begin{align*}\n",
    "    p(\\mathbf{x}, \\mathbf{h}) &= \\frac{-E(\\mathbf{x}, \\mathbf{h})}{Z} \\\\\n",
    "\\end{align*}\n",
    "\n",
    "Here, $E(\\mathbf{x}, \\mathbf{h})$ is the energy of the joint random variables (x, h).\n",
    "\n",
    "Now, for the conditional distributions:\n",
    "\n",
    "\\begin{align*}\n",
    "    p({h_j}=1| \\mathbf{x}) &= \\frac{p(\\mathbf{x}, {h_j}=1)}{p(\\mathbf{x})} \\\\\n",
    "    &= \\frac{\\sum_{\\mathbf{h}|h_j=1}p(\\mathbf{x}, \\mathbf{h})}{\\sum_{\\mathbf{h}}p(\\mathbf{x}, \\mathbf{h})}\\\\\n",
    "    &= \\frac{\\sum_{\\mathbf{h}|h_j=1}\\exp(-E(\\mathbf{x}, \\mathbf{h}))}{\\sum_{\\mathbf{h}}\\exp(-E(\\mathbf{x}, \\mathbf{h}))}\\\\\n",
    "    &= \\frac{\\sum_{\\mathbf{h}|h_j=1}\\exp(-E(\\mathbf{x}, \\mathbf{h}))}{\\sum_{\\mathbf{h}|h_j=0}\\exp(-E(\\mathbf{x}, \\mathbf{h})) + \\sum_{\\mathbf{h}|h_j=1}\\exp(-E(\\mathbf{x}, \\mathbf{h}))}\\\\\n",
    "    &= \\frac{1}{1+\\frac{\\sum_{\\mathbf{h}|h_j=0}\\exp(-E(\\mathbf{x}, \\mathbf{h}))}{\\sum_{\\mathbf{h}|h_j=1}\\exp(-E(\\mathbf{x}, \\mathbf{h}))}} \\\\\n",
    "    &= \\frac{1}{1+\\frac{\\sum_{\\mathbf{h}|h_j=0}\\exp(\\sum_{j'} \\sum_k W_{j',k} h_{j'} x_k + \\sum_{k}c_k x_k + \\sum_{j'} b_{j'} h_{j'})}{\\sum_{\\mathbf{h}|h_j=1}\\exp(\\sum_{j'} \\sum_k W_{{j'},k} h_{j'} x_k + \\sum_{k}c_k x_k + \\sum_{j'} b_{j'} h_{j'})}}\\\\\n",
    "    &= \\frac{1}{1+\\frac{\\sum_{\\mathbf{h}|h_j=0}\\exp(\\sum_{j' \\neq j} \\sum_k W_{j',k} h_{j'} x_k + \\sum_{k}c_k x_k + \\sum_{j' \\neq j} b_{j'} h_{j'})}{\\sum_{\\mathbf{h}|h_j=1}\\exp(\\sum_{j' \\neq j} \\sum_k W_{{j'},k} h_{j'} x_k + \\sum_{k}c_k x_k + \\sum_{j' \\neq j} b_{j'} h_{j'})} \\cdot \\frac{\\exp(\\sum_kW_{j,k}\\cdot 0 \\cdot x_k+0)}{\\exp(\\sum_k W_{j,k}x_k + b_j)}}\\\\\n",
    "    &= \\frac{1}{1+1\\cdot \\frac{1}{\\exp(\\sum_k W_{j,k}x_k + b_j)}}\\\\\n",
    "    &= \\frac{1}{1+\\exp(-(\\sum_k W_{j,k}x_k + b_j))}\\\\\n",
    "    &= \\sigma(\\sum_k W_{j,k}x_k + b_j) \\\\\n",
    "    &= \\sigma(b_j + W_{j.}x) \\\\\n",
    "\\end{align*}\n",
    "\n",
    "\\begin{align*}\n",
    "    p({x_k}=1| \\mathbf{x}) &= \\frac{p(\\mathbf{h}, {x_k}=1)}{p(\\mathbf{h})} \\\\\n",
    "    &= \\frac{\\sum_{\\mathbf{x}|x_k=1}p(\\mathbf{h}, \\mathbf{x})}{\\sum_{\\mathbf{x}}p(\\mathbf{h}, \\mathbf{x})}\\\\\n",
    "    &= \\frac{\\sum_{\\mathbf{x}|x_k=1}\\exp(-E(\\mathbf{x}, \\mathbf{h}))}{\\sum_{\\mathbf{x}}\\exp(-E(\\mathbf{x}, \\mathbf{h}))}\\\\\n",
    "    &= \\frac{\\sum_{\\mathbf{x}|x_k=1}\\exp(-E(\\mathbf{x}, \\mathbf{h}))}{\\sum_{\\mathbf{x}|x_k=0}\\exp(-E(\\mathbf{x}, \\mathbf{h})) + \\sum_{\\mathbf{x}|x_k=1}\\exp(-E(\\mathbf{x}, \\mathbf{h}))}\\\\\n",
    "    &= \\frac{1}{1+\\frac{\\sum_{\\mathbf{x}|x_k=0}\\exp(-E(\\mathbf{x}, \\mathbf{h}))}{\\sum_{\\mathbf{x}|x_k=1}\\exp(-E(\\mathbf{x}, \\mathbf{h}))}} \\\\\n",
    "    &= \\frac{1}{1+\\frac{\\sum_{\\mathbf{x}|x_k=0}\\exp(\\sum_{j} \\sum_{k'} W_{j,k'} h_{j} x_{k'} + \\sum_{k'}c_{k'} x_{k'} + \\sum_{j} b_{j} h_{j})}{\\sum_{\\mathbf{x}|x_k=1}\\exp(\\sum_{j} \\sum_{k'} W_{{j},{k'}} h_{j} x_{k'} + \\sum_{{k'}}c_{k'} x_{k'} + \\sum_{j} b_{j} h_{j})}}\\\\\n",
    "    &= \\frac{1}{1+\\frac{\\sum_{\\mathbf{x}|x_k=0}\\exp(\\sum_{j} \\sum_{k'\\neq k} W_{j,k'} h_{j} x_{k'} + \\sum_{{k'}\\neq k}c_{k'} x_{k'} + \\sum_{j} b_{j} h_{j})}{\\sum_{\\mathbf{x}|x_k=1}\\exp(\\sum_{j} \\sum_{k' \\neq k} W_{{j},{k'}} h_{j} x_{k'} + \\sum_{k' \\neq k}c_{k'} x_{k'} + \\sum_{j} b_{j} h_{j})} \\cdot \\frac{\\exp(\\sum_{j} W_{j,k}\\cdot b_j \\cdot +0)}{\\exp(\\sum_j W_{j,k}h_j + c_k)}}\\\\\n",
    "    &= \\frac{1}{1+1\\cdot \\frac{1}{\\exp(\\sum_j W_{j,k}h_j + c_k)}}\\\\\n",
    "    &= \\frac{1}{1+\\exp(-(\\sum_j W_{j,k}h_j + c_k))}\\\\\n",
    "    &= \\sigma(\\sum_j W_{j,k}h_j + c_k) \\\\\n",
    "    &= \\sigma(c_k+h^T W_{.k}) \\\\\n",
    "\\end{align*}\n",
    "\n"
   ]
  },
  {
   "cell_type": "markdown",
   "metadata": {},
   "source": [
    "**Part (b)**"
   ]
  },
  {
   "cell_type": "markdown",
   "metadata": {},
   "source": [
    "The derivative of the negative log-likelihood can be defined as:\n",
    "\n",
    "\\begin{align*}\n",
    "    -\\frac{\\partial \\log p(x)}{\\partial \\theta} &= \\frac{\\partial}{\\partial \\theta} \\log \\frac{\\sum_{\\mathbf{h}}exp(-E(\\mathbf{x}, \\mathbf{h}))}{Z} \\\\\n",
    "    &= \\frac{\\partial}{\\partial \\theta} \\log\\sum_{\\mathbf{h}}exp(-E(\\mathbf{x}, \\mathbf{h})) - \\frac{\\partial}{\\partial \\theta} \\log({Z}) \\\\\n",
    "\\end{align*}\n",
    "Applying chain rule of differentiation,\n",
    "\\begin{align*}\n",
    "    -\\frac{\\partial \\log p(x)}{\\partial \\theta} &= \\frac{\\frac{\\partial}{\\partial \\theta} \\sum_{\\mathbf{h}}exp(-E(\\mathbf{x}, \\mathbf{h}))}{\\sum_{\\mathbf{h}}exp(-E(\\mathbf{x}, \\mathbf{h}))} - \\frac{\\frac{\\partial}{\\partial \\theta} ({Z})}{({Z})}\\\\\n",
    "    &= \\frac{ \\sum_{\\mathbf{h}}\\exp(-E(\\mathbf{x}, \\mathbf{h}))\\frac{\\partial}{\\partial \\theta} (-E(\\mathbf{x}, \\mathbf{h})}{\\sum_{\\mathbf{h}}\\exp(-E(\\mathbf{x}, \\mathbf{h}))} - \\frac{ \\sum_{\\mathbf{h},\\mathbf{x}}\\exp(-E(\\mathbf{x}, \\mathbf{h}))\\frac{\\partial}{\\partial \\theta} (-E(\\mathbf{x}, \\mathbf{h})}{({Z})}\\\\\n",
    "    &= \\sum_{\\mathbf{h}} \\bigg( \\frac{\\exp(-E(\\mathbf{x}, \\mathbf{h}))}{\\sum_{\\mathbf{h'}}\\exp(-E(\\mathbf{x}, \\mathbf{h}))} \\cdot \\frac{\\partial}{\\partial \\theta} (-E(\\mathbf{x}, \\mathbf{h})) \\bigg) - \\sum_{\\mathbf{h},\\mathbf{x}} \\bigg( \\frac{\\exp(-E(\\mathbf{x}, \\mathbf{h}))}{Z} \\cdot \\frac{\\partial}{\\partial \\theta} (-E(\\mathbf{x}, \\mathbf{h})) \\bigg)\\\\\n",
    "    &= \\sum_{\\mathbf{h}} \\bigg( p(\\mathbf{h}|\\mathbf{x}) \\cdot \\frac{\\partial}{\\partial \\theta} (-E(\\mathbf{x}, \\mathbf{h})) \\bigg) - \\sum_{\\mathbf{h},\\mathbf{x}} \\bigg( p(\\mathbf{h}, \\mathbf{x}) \\cdot \\frac{\\partial}{\\partial \\theta} (-E(\\mathbf{x}, \\mathbf{h})) \\bigg)\\\\\n",
    "    &= \\mathbb{E}_{\\mathbf{h}}\\left[\\frac{\\partial E(\\mathbf{x}, \\mathbf{h})}{\\partial \\theta} \\mid \\mathbf{x}\\right]-\\mathbb{E}_{\\mathbf{x}, \\mathbf{h}}\\left[\\frac{\\partial E(\\mathbf{x}, \\mathbf{h})}{\\partial \\theta}\\right]\n",
    "\\end{align*}"
   ]
  }
 ],
 "metadata": {
  "kernelspec": {
   "display_name": "Python 3",
   "language": "python",
   "name": "python3"
  },
  "language_info": {
   "codemirror_mode": {
    "name": "ipython",
    "version": 3
   },
   "file_extension": ".py",
   "mimetype": "text/x-python",
   "name": "python",
   "nbconvert_exporter": "python",
   "pygments_lexer": "ipython3",
   "version": "3.7.3"
  }
 },
 "nbformat": 4,
 "nbformat_minor": 2
}
